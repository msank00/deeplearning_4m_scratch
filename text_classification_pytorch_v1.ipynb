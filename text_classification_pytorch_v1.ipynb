{
 "cells": [
  {
   "cell_type": "markdown",
   "metadata": {},
   "source": [
    "# Text Classification with Pytorch"
   ]
  },
  {
   "cell_type": "markdown",
   "metadata": {},
   "source": [
    "- [Spam Ham Classification](https://www.kaggle.com/aaditkapoor1201/pytorch-spam-ham-classification)\n",
    "\n",
    "## Understanding Checkpoint\n",
    "\n",
    "- [saving-loading-your-model-in-pytorch](https://medium.com/udacity-pytorch-challengers/saving-loading-your-model-in-pytorch-741b80daf3c)\n",
    "- [checkpointing-tutorial-for-tensorflow-keras-and-pytorch](https://blog.floydhub.com/checkpointing-tutorial-for-tensorflow-keras-and-pytorch/)"
   ]
  },
  {
   "cell_type": "code",
   "execution_count": 1,
   "metadata": {},
   "outputs": [],
   "source": [
    "%matplotlib inline\n",
    "import torch\n",
    "import re\n",
    "import pandas as pd\n",
    "import numpy as np\n",
    "from matplotlib import pyplot as plt\n",
    "import spacy #load spacy"
   ]
  },
  {
   "cell_type": "code",
   "execution_count": 2,
   "metadata": {},
   "outputs": [],
   "source": [
    "import torch.nn.functional as F"
   ]
  },
  {
   "cell_type": "code",
   "execution_count": 3,
   "metadata": {},
   "outputs": [],
   "source": [
    "from torch import nn\n",
    "from torch.autograd import Variable"
   ]
  },
  {
   "cell_type": "code",
   "execution_count": 4,
   "metadata": {},
   "outputs": [
    {
     "name": "stderr",
     "output_type": "stream",
     "text": [
      "Using TensorFlow backend.\n"
     ]
    }
   ],
   "source": [
    "from keras.preprocessing.text import Tokenizer"
   ]
  },
  {
   "cell_type": "code",
   "execution_count": 5,
   "metadata": {},
   "outputs": [],
   "source": [
    "DATA_DIR = \"/home/sankarshan/Documents/code/dataset/textdata/\""
   ]
  },
  {
   "cell_type": "code",
   "execution_count": 6,
   "metadata": {},
   "outputs": [
    {
     "name": "stdout",
     "output_type": "stream",
     "text": [
      "total 354M\r\n",
      " 64M -rwxrwxrwx 1 sankarshan sankarshan  64M Mar  9  2019 IMDB_Dataset.csv\r\n",
      "956K -rw-r--r-- 1 sankarshan sankarshan 956K May  8 21:48 ml-latest-small.zip\r\n",
      "265M -rw-r--r-- 1 sankarshan sankarshan 265M May  8 21:50 ml-latest.zip\r\n",
      "4.0K -rw-r--r-- 1 sankarshan sankarshan   71 Oct 19 23:39 README.md\r\n",
      " 26M -rw-rw-r-- 1 sankarshan sankarshan  26M Oct 19 23:42 imdb-dataset-of-50k-movie-reviews.zip\r\n",
      "4.0K drwxr-xr-x 2 sankarshan sankarshan 4.0K Oct 19 23:43 ml-latest-small\r\n"
     ]
    }
   ],
   "source": [
    "!ls -lshrt {DATA_DIR}"
   ]
  },
  {
   "cell_type": "code",
   "execution_count": 7,
   "metadata": {},
   "outputs": [],
   "source": [
    "df = pd.read_csv(DATA_DIR+'IMDB_Dataset.csv')"
   ]
  },
  {
   "cell_type": "code",
   "execution_count": 8,
   "metadata": {},
   "outputs": [
    {
     "data": {
      "text/html": [
       "<div>\n",
       "<style scoped>\n",
       "    .dataframe tbody tr th:only-of-type {\n",
       "        vertical-align: middle;\n",
       "    }\n",
       "\n",
       "    .dataframe tbody tr th {\n",
       "        vertical-align: top;\n",
       "    }\n",
       "\n",
       "    .dataframe thead th {\n",
       "        text-align: right;\n",
       "    }\n",
       "</style>\n",
       "<table border=\"1\" class=\"dataframe\">\n",
       "  <thead>\n",
       "    <tr style=\"text-align: right;\">\n",
       "      <th></th>\n",
       "      <th>review</th>\n",
       "      <th>sentiment</th>\n",
       "    </tr>\n",
       "  </thead>\n",
       "  <tbody>\n",
       "    <tr>\n",
       "      <th>0</th>\n",
       "      <td>One of the other reviewers has mentioned that ...</td>\n",
       "      <td>positive</td>\n",
       "    </tr>\n",
       "    <tr>\n",
       "      <th>1</th>\n",
       "      <td>A wonderful little production. &lt;br /&gt;&lt;br /&gt;The...</td>\n",
       "      <td>positive</td>\n",
       "    </tr>\n",
       "    <tr>\n",
       "      <th>2</th>\n",
       "      <td>I thought this was a wonderful way to spend ti...</td>\n",
       "      <td>positive</td>\n",
       "    </tr>\n",
       "    <tr>\n",
       "      <th>3</th>\n",
       "      <td>Basically there's a family where a little boy ...</td>\n",
       "      <td>negative</td>\n",
       "    </tr>\n",
       "    <tr>\n",
       "      <th>4</th>\n",
       "      <td>Petter Mattei's \"Love in the Time of Money\" is...</td>\n",
       "      <td>positive</td>\n",
       "    </tr>\n",
       "  </tbody>\n",
       "</table>\n",
       "</div>"
      ],
      "text/plain": [
       "                                              review sentiment\n",
       "0  One of the other reviewers has mentioned that ...  positive\n",
       "1  A wonderful little production. <br /><br />The...  positive\n",
       "2  I thought this was a wonderful way to spend ti...  positive\n",
       "3  Basically there's a family where a little boy ...  negative\n",
       "4  Petter Mattei's \"Love in the Time of Money\" is...  positive"
      ]
     },
     "execution_count": 8,
     "metadata": {},
     "output_type": "execute_result"
    }
   ],
   "source": [
    "df.head()"
   ]
  },
  {
   "cell_type": "code",
   "execution_count": 9,
   "metadata": {},
   "outputs": [],
   "source": [
    "def clean_review(text):\n",
    "    # Strip HTML tags\n",
    "    text = re.sub('<[^<]+?>', ' ', text)\n",
    " \n",
    "    # Strip escaped quotes\n",
    "    text = text.replace('\\\\\"', '')\n",
    " \n",
    "    # Strip quotes\n",
    "    text = text.replace('\"', '')\n",
    "    \n",
    "    text = text.lower()\n",
    " \n",
    "    return text\n",
    "\n",
    "def normalize(comment, lowercase=True):\n",
    "    if lowercase:\n",
    "        comment = comment.lower()\n",
    "    comment = nlp(comment)\n",
    "    lemmatized = list()\n",
    "    for word in comment:\n",
    "        if not word.is_stop:\n",
    "            lemma = word.lemma_.strip()\n",
    "            lemmatized.append(lemma)\n",
    "        \n",
    "    return \" \".join(lemmatized)\n"
   ]
  },
  {
   "cell_type": "code",
   "execution_count": 10,
   "metadata": {},
   "outputs": [],
   "source": [
    "nlp = spacy.load(\"en_core_web_sm\", disable=['parser', 'tagger', 'ner'])\n",
    "spacy_stopwords = spacy.lang.en.stop_words.STOP_WORDS"
   ]
  },
  {
   "cell_type": "code",
   "execution_count": 11,
   "metadata": {},
   "outputs": [
    {
     "name": "stdout",
     "output_type": "stream",
     "text": [
      "CPU times: user 1min 22s, sys: 107 ms, total: 1min 22s\n",
      "Wall time: 1min 22s\n"
     ]
    }
   ],
   "source": [
    "%%time\n",
    "df['cleaned_review'] = df['review'].apply(clean_review)\n",
    "df['normalized_review'] = df['cleaned_review'].apply(normalize) "
   ]
  },
  {
   "cell_type": "code",
   "execution_count": 12,
   "metadata": {},
   "outputs": [
    {
     "data": {
      "text/html": [
       "<div>\n",
       "<style scoped>\n",
       "    .dataframe tbody tr th:only-of-type {\n",
       "        vertical-align: middle;\n",
       "    }\n",
       "\n",
       "    .dataframe tbody tr th {\n",
       "        vertical-align: top;\n",
       "    }\n",
       "\n",
       "    .dataframe thead th {\n",
       "        text-align: right;\n",
       "    }\n",
       "</style>\n",
       "<table border=\"1\" class=\"dataframe\">\n",
       "  <thead>\n",
       "    <tr style=\"text-align: right;\">\n",
       "      <th></th>\n",
       "      <th>review</th>\n",
       "      <th>sentiment</th>\n",
       "      <th>cleaned_review</th>\n",
       "      <th>normalized_review</th>\n",
       "    </tr>\n",
       "  </thead>\n",
       "  <tbody>\n",
       "    <tr>\n",
       "      <th>0</th>\n",
       "      <td>One of the other reviewers has mentioned that ...</td>\n",
       "      <td>positive</td>\n",
       "      <td>one of the other reviewers has mentioned that ...</td>\n",
       "      <td>reviewer mention watch 1 oz episode hook . rig...</td>\n",
       "    </tr>\n",
       "    <tr>\n",
       "      <th>1</th>\n",
       "      <td>A wonderful little production. &lt;br /&gt;&lt;br /&gt;The...</td>\n",
       "      <td>positive</td>\n",
       "      <td>a wonderful little production.   the filming t...</td>\n",
       "      <td>wonderful little production .  film technique ...</td>\n",
       "    </tr>\n",
       "    <tr>\n",
       "      <th>2</th>\n",
       "      <td>I thought this was a wonderful way to spend ti...</td>\n",
       "      <td>positive</td>\n",
       "      <td>i thought this was a wonderful way to spend ti...</td>\n",
       "      <td>think wonderful way spend time hot summer week...</td>\n",
       "    </tr>\n",
       "    <tr>\n",
       "      <th>3</th>\n",
       "      <td>Basically there's a family where a little boy ...</td>\n",
       "      <td>negative</td>\n",
       "      <td>basically there's a family where a little boy ...</td>\n",
       "      <td>basically family little boy ( jake ) think zom...</td>\n",
       "    </tr>\n",
       "    <tr>\n",
       "      <th>4</th>\n",
       "      <td>Petter Mattei's \"Love in the Time of Money\" is...</td>\n",
       "      <td>positive</td>\n",
       "      <td>petter mattei's love in the time of money is a...</td>\n",
       "      <td>petter mattei love time money visually stun fi...</td>\n",
       "    </tr>\n",
       "  </tbody>\n",
       "</table>\n",
       "</div>"
      ],
      "text/plain": [
       "                                              review sentiment  \\\n",
       "0  One of the other reviewers has mentioned that ...  positive   \n",
       "1  A wonderful little production. <br /><br />The...  positive   \n",
       "2  I thought this was a wonderful way to spend ti...  positive   \n",
       "3  Basically there's a family where a little boy ...  negative   \n",
       "4  Petter Mattei's \"Love in the Time of Money\" is...  positive   \n",
       "\n",
       "                                      cleaned_review  \\\n",
       "0  one of the other reviewers has mentioned that ...   \n",
       "1  a wonderful little production.   the filming t...   \n",
       "2  i thought this was a wonderful way to spend ti...   \n",
       "3  basically there's a family where a little boy ...   \n",
       "4  petter mattei's love in the time of money is a...   \n",
       "\n",
       "                                   normalized_review  \n",
       "0  reviewer mention watch 1 oz episode hook . rig...  \n",
       "1  wonderful little production .  film technique ...  \n",
       "2  think wonderful way spend time hot summer week...  \n",
       "3  basically family little boy ( jake ) think zom...  \n",
       "4  petter mattei love time money visually stun fi...  "
      ]
     },
     "execution_count": 12,
     "metadata": {},
     "output_type": "execute_result"
    }
   ],
   "source": [
    "df.head()"
   ]
  },
  {
   "cell_type": "code",
   "execution_count": 13,
   "metadata": {},
   "outputs": [
    {
     "data": {
      "text/plain": [
       "\"One of the other reviewers has mentioned that after watching just 1 Oz episode you'll be hooked. They are right, as this is exactly what happened with me.<br /><br />The first thing that struck me about Oz was its brutality and unflinching scenes of violence, which set in right from the word GO. Trust me, this is not a show for the faint hearted or timid. This show pulls no punches with regards to drugs, sex or violence. Its is hardcore, in the classic use of the word.<br /><br />It is called OZ as that is the nickname given to the Oswald Maximum Security State Penitentary. It focuses mainly on Emerald City, an experimental section of the prison where all the cells have glass fronts and face inwards, so privacy is not high on the agenda. Em City is home to many..Aryans, Muslims, gangstas, Latinos, Christians, Italians, Irish and more....so scuffles, death stares, dodgy dealings and shady agreements are never far away.<br /><br />I would say the main appeal of the show is due to the fact that it goes where other shows wouldn't dare. Forget pretty pictures painted for mainstream audiences, forget charm, forget romance...OZ doesn't mess around. The first episode I ever saw struck me as so nasty it was surreal, I couldn't say I was ready for it, but as I watched more, I developed a taste for Oz, and got accustomed to the high levels of graphic violence. Not just violence, but injustice (crooked guards who'll be sold out for a nickel, inmates who'll kill on order and get away with it, well mannered, middle class inmates being turned into prison bitches due to their lack of street skills or prison experience) Watching Oz, you may become comfortable with what is uncomfortable viewing....thats if you can get in touch with your darker side.\""
      ]
     },
     "execution_count": 13,
     "metadata": {},
     "output_type": "execute_result"
    }
   ],
   "source": [
    "df.iloc[0, 0]"
   ]
  },
  {
   "cell_type": "code",
   "execution_count": 14,
   "metadata": {},
   "outputs": [
    {
     "data": {
      "text/plain": [
       "\"one of the other reviewers has mentioned that after watching just 1 oz episode you'll be hooked. they are right, as this is exactly what happened with me.  the first thing that struck me about oz was its brutality and unflinching scenes of violence, which set in right from the word go. trust me, this is not a show for the faint hearted or timid. this show pulls no punches with regards to drugs, sex or violence. its is hardcore, in the classic use of the word.  it is called oz as that is the nickname given to the oswald maximum security state penitentary. it focuses mainly on emerald city, an experimental section of the prison where all the cells have glass fronts and face inwards, so privacy is not high on the agenda. em city is home to many..aryans, muslims, gangstas, latinos, christians, italians, irish and more....so scuffles, death stares, dodgy dealings and shady agreements are never far away.  i would say the main appeal of the show is due to the fact that it goes where other shows wouldn't dare. forget pretty pictures painted for mainstream audiences, forget charm, forget romance...oz doesn't mess around. the first episode i ever saw struck me as so nasty it was surreal, i couldn't say i was ready for it, but as i watched more, i developed a taste for oz, and got accustomed to the high levels of graphic violence. not just violence, but injustice (crooked guards who'll be sold out for a nickel, inmates who'll kill on order and get away with it, well mannered, middle class inmates being turned into prison bitches due to their lack of street skills or prison experience) watching oz, you may become comfortable with what is uncomfortable viewing....thats if you can get in touch with your darker side.\""
      ]
     },
     "execution_count": 14,
     "metadata": {},
     "output_type": "execute_result"
    }
   ],
   "source": [
    "df.iloc[0, 2]"
   ]
  },
  {
   "cell_type": "code",
   "execution_count": 15,
   "metadata": {},
   "outputs": [
    {
     "data": {
      "text/plain": [
       "'reviewer mention watch 1 oz episode hook . right , exactly happen .  thing strike oz brutality unflinching scene violence , set right word . trust , faint hearted timid . pull punch regard drug , sex violence . hardcore , classic use word .  call oz nickname give oswald maximum security state penitentary . focus mainly emerald city , experimental section prison cell glass front face inwards , privacy high agendum . -PRON- city home .. aryans , muslims , gangstas , latinos , christians , italians , irish .... scuffle , death stare , dodgy dealings shady agreement far away .  main appeal fact go show dare . forget pretty picture paint mainstream audience , forget charm , forget romance ... oz mess . episode see strike nasty surreal , ready , watch , develope taste oz , get accustom high level graphic violence . violence , injustice ( crook guard sell nickel , inmate kill order away , mannered , middle class inmate turn prison bitch lack street skill prison experience ) watch oz , comfortable uncomfortable view .... thats touch dark .'"
      ]
     },
     "execution_count": 15,
     "metadata": {},
     "output_type": "execute_result"
    }
   ],
   "source": [
    "df.iloc[0, 3]"
   ]
  },
  {
   "cell_type": "code",
   "execution_count": 16,
   "metadata": {},
   "outputs": [
    {
     "data": {
      "text/plain": [
       "(50000, 4)"
      ]
     },
     "execution_count": 16,
     "metadata": {},
     "output_type": "execute_result"
    }
   ],
   "source": [
    "df.shape"
   ]
  },
  {
   "cell_type": "code",
   "execution_count": 17,
   "metadata": {},
   "outputs": [],
   "source": [
    "df.sentiment = df.sentiment.map({\"positive\": 1, \"negative\":0})"
   ]
  },
  {
   "cell_type": "code",
   "execution_count": 18,
   "metadata": {},
   "outputs": [],
   "source": [
    "features = df.normalized_review.values\n",
    "labels = df.sentiment.values\n",
    "num_words = 1000"
   ]
  },
  {
   "cell_type": "code",
   "execution_count": 19,
   "metadata": {},
   "outputs": [
    {
     "data": {
      "text/plain": [
       "((50000,), (50000,))"
      ]
     },
     "execution_count": 19,
     "metadata": {},
     "output_type": "execute_result"
    }
   ],
   "source": [
    "features.shape , labels.shape"
   ]
  },
  {
   "cell_type": "code",
   "execution_count": 20,
   "metadata": {},
   "outputs": [],
   "source": [
    "t = Tokenizer(num_words=1000)\n",
    "t.fit_on_texts(features)"
   ]
  },
  {
   "cell_type": "code",
   "execution_count": 21,
   "metadata": {},
   "outputs": [
    {
     "name": "stdout",
     "output_type": "stream",
     "text": [
      "CPU times: user 13.5 s, sys: 123 ms, total: 13.6 s\n",
      "Wall time: 13.6 s\n"
     ]
    }
   ],
   "source": [
    "%%time\n",
    "features = t.texts_to_matrix(features, mode='tfidf')"
   ]
  },
  {
   "cell_type": "markdown",
   "metadata": {},
   "source": [
    "## Understand the dimension\n",
    "\n",
    "- `input_dim`: dimension of the input paragraph/review\n",
    "  - remember each input `normalized_review` is transformed into a `1000` dimension vector by keras tokenizer\n",
    "  \n",
    "- `hidden_dim`: denotes the number of neurons in the hidden layer\n",
    "\n",
    "- `output_dim`: denotes the number of category"
   ]
  },
  {
   "cell_type": "code",
   "execution_count": 22,
   "metadata": {},
   "outputs": [],
   "source": [
    "input_dim = num_words\n",
    "hidden_dim = 100\n",
    "output_dim = 2"
   ]
  },
  {
   "cell_type": "code",
   "execution_count": 23,
   "metadata": {},
   "outputs": [],
   "source": [
    "# Building model\n",
    "\n",
    "class LinNet(nn.Module):\n",
    "    def __init__(self, input_dim, hidden_dim, output_dim):\n",
    "        super().__init__()\n",
    "        self.l1 = nn.Linear(input_dim, hidden_dim)\n",
    "        self.l2 = nn.Linear(hidden_dim, hidden_dim)\n",
    "        self.l3 = nn.Linear(hidden_dim, output_dim)\n",
    "        \n",
    "    def forward(self, x):\n",
    "        \n",
    "        # shape of X: (batch_size, input_dim)\n",
    "        out = F.relu(self.l1(x))\n",
    "        out = F.relu(self.l2(out))\n",
    "        out = self.l3(out)\n",
    "        \n",
    "        return out"
   ]
  },
  {
   "cell_type": "code",
   "execution_count": null,
   "metadata": {},
   "outputs": [],
   "source": []
  },
  {
   "cell_type": "code",
   "execution_count": 24,
   "metadata": {},
   "outputs": [],
   "source": [
    "from sklearn.model_selection import train_test_split"
   ]
  },
  {
   "cell_type": "code",
   "execution_count": 25,
   "metadata": {},
   "outputs": [],
   "source": [
    "features_train, features_test, labels_train, labels_test = train_test_split(features, labels, shuffle=True, random_state=34)\n"
   ]
  },
  {
   "cell_type": "code",
   "execution_count": 26,
   "metadata": {},
   "outputs": [
    {
     "data": {
      "text/plain": [
       "-inf"
      ]
     },
     "execution_count": 26,
     "metadata": {},
     "output_type": "execute_result"
    }
   ],
   "source": [
    "np.NINF"
   ]
  },
  {
   "cell_type": "code",
   "execution_count": 31,
   "metadata": {},
   "outputs": [],
   "source": [
    "def train(epochs):\n",
    "    loss_hist = []\n",
    "    acc_hist = []\n",
    "    \n",
    "    x_train = Variable(torch.from_numpy(features_train)).float()\n",
    "    y_train = Variable(torch.from_numpy(labels_train)).long()\n",
    "    model.train()\n",
    "    \n",
    "    acc_best = np.NINF\n",
    "    check_flag = False\n",
    "    \n",
    "    for epoch in range(epochs):\n",
    "        optimizer.zero_grad()\n",
    "        y_pred = model(x_train)\n",
    "        loss = criterion(y_pred, y_train)\n",
    "        pred = torch.max(y_pred, 1)[1].eq(y_train).sum()\n",
    "        acc = float(pred)/float(len(x_train))\n",
    "        \n",
    "        if acc > acc_best:\n",
    "            acc_best = acc\n",
    "            state_dict = model.state_dict()\n",
    "            optimizer_state = optimizer.state_dict()\n",
    "            check_flag = True\n",
    "        \n",
    "        status = f\"epoch {epoch+1}/{epochs}\\tloss: {loss.item():.4}\\t acc: {acc:.4}\" \n",
    "        \n",
    "        if check_flag:\n",
    "            status = status + \"\\t >> Best Checkpoint <<\"\n",
    "            check_flag = False\n",
    "        \n",
    "        \n",
    "        print(status)\n",
    "        loss_hist.append(np.round(loss.item(),4))\n",
    "        acc_hist.append(np.round(acc,2))\n",
    "        \n",
    "        loss.backward()\n",
    "        optimizer.step()\n",
    "\n",
    "    checkpoint_best = {\"state_dict\":state_dict, 'optimizer_state': optimizer_state}\n",
    "    \n",
    "    return loss_hist, acc_hist, checkpoint_best"
   ]
  },
  {
   "cell_type": "code",
   "execution_count": 44,
   "metadata": {},
   "outputs": [],
   "source": [
    "def test(model, epochs):\n",
    "    loss_hist = []\n",
    "    acc_hist = []\n",
    "    \n",
    "    model.eval()\n",
    "    x_test = Variable(torch.from_numpy(features_test)).float()\n",
    "    y_test = Variable(torch.from_numpy(labels_test)).long()\n",
    "    for epoch in range(epochs):\n",
    "        with torch.no_grad():\n",
    "            y_pred = model(x_test)\n",
    "            loss = criterion(y_pred, y_test)\n",
    "            pred = torch.max(y_pred, 1)[1].eq(y_test).sum()\n",
    "            \n",
    "            acc = float(pred)/float(len(x_test))\n",
    "            status = f\"epoch {epoch+1}/{epochs}\\tloss: {loss.item()}\\t acc: {acc} %\" \n",
    "            print(status)\n",
    "            \n",
    "            loss_hist.append(np.round(loss.item(),4))\n",
    "            acc_hist.append(np.round(acc,4))\n",
    "    \n",
    "    return loss_hist, acc_hist"
   ]
  },
  {
   "cell_type": "code",
   "execution_count": 33,
   "metadata": {},
   "outputs": [],
   "source": [
    "model = LinNet(input_dim, hidden_dim, output_dim)\n",
    "optimizer = torch.optim.Adam(model.parameters(), lr=0.01)\n",
    "criterion = nn.CrossEntropyLoss()"
   ]
  },
  {
   "cell_type": "code",
   "execution_count": 34,
   "metadata": {
    "scrolled": true
   },
   "outputs": [
    {
     "name": "stdout",
     "output_type": "stream",
     "text": [
      "epoch 1/100\tloss: 0.6928\t acc: 0.5108\t >> Best Checkpoint <<\n",
      "epoch 2/100\tloss: 0.5893\t acc: 0.7112\t >> Best Checkpoint <<\n",
      "epoch 3/100\tloss: 1.139\t acc: 0.5234\n",
      "epoch 4/100\tloss: 0.4531\t acc: 0.8189\t >> Best Checkpoint <<\n",
      "epoch 5/100\tloss: 0.7968\t acc: 0.6698\n",
      "epoch 6/100\tloss: 0.528\t acc: 0.7616\n",
      "epoch 7/100\tloss: 0.4885\t acc: 0.8349\t >> Best Checkpoint <<\n",
      "epoch 8/100\tloss: 0.5219\t acc: 0.7715\n",
      "epoch 9/100\tloss: 0.5271\t acc: 0.736\n",
      "epoch 10/100\tloss: 0.4854\t acc: 0.7803\n",
      "epoch 11/100\tloss: 0.4151\t acc: 0.8345\n",
      "epoch 12/100\tloss: 0.3867\t acc: 0.8377\t >> Best Checkpoint <<\n",
      "epoch 13/100\tloss: 0.4026\t acc: 0.8286\n",
      "epoch 14/100\tloss: 0.3605\t acc: 0.8499\t >> Best Checkpoint <<\n",
      "epoch 15/100\tloss: 0.3676\t acc: 0.8506\t >> Best Checkpoint <<\n",
      "epoch 16/100\tloss: 0.3672\t acc: 0.8521\t >> Best Checkpoint <<\n",
      "epoch 17/100\tloss: 0.3317\t acc: 0.863\t >> Best Checkpoint <<\n",
      "epoch 18/100\tloss: 0.33\t acc: 0.8607\n",
      "epoch 19/100\tloss: 0.3313\t acc: 0.8578\n",
      "epoch 20/100\tloss: 0.3142\t acc: 0.8661\t >> Best Checkpoint <<\n",
      "epoch 21/100\tloss: 0.3098\t acc: 0.8714\t >> Best Checkpoint <<\n",
      "epoch 22/100\tloss: 0.3157\t acc: 0.8673\n",
      "epoch 23/100\tloss: 0.3092\t acc: 0.8693\n",
      "epoch 24/100\tloss: 0.3018\t acc: 0.872\t >> Best Checkpoint <<\n",
      "epoch 25/100\tloss: 0.3066\t acc: 0.8681\n",
      "epoch 26/100\tloss: 0.2994\t acc: 0.8723\t >> Best Checkpoint <<\n",
      "epoch 27/100\tloss: 0.2936\t acc: 0.8745\t >> Best Checkpoint <<\n",
      "epoch 28/100\tloss: 0.294\t acc: 0.8738\n",
      "epoch 29/100\tloss: 0.2915\t acc: 0.8749\t >> Best Checkpoint <<\n",
      "epoch 30/100\tloss: 0.2868\t acc: 0.8759\t >> Best Checkpoint <<\n",
      "epoch 31/100\tloss: 0.2856\t acc: 0.8761\t >> Best Checkpoint <<\n",
      "epoch 32/100\tloss: 0.2853\t acc: 0.8761\n",
      "epoch 33/100\tloss: 0.2818\t acc: 0.8772\t >> Best Checkpoint <<\n",
      "epoch 34/100\tloss: 0.2786\t acc: 0.8785\t >> Best Checkpoint <<\n",
      "epoch 35/100\tloss: 0.2776\t acc: 0.8796\t >> Best Checkpoint <<\n",
      "epoch 36/100\tloss: 0.2748\t acc: 0.8804\t >> Best Checkpoint <<\n",
      "epoch 37/100\tloss: 0.2712\t acc: 0.8812\t >> Best Checkpoint <<\n",
      "epoch 38/100\tloss: 0.2697\t acc: 0.8819\t >> Best Checkpoint <<\n",
      "epoch 39/100\tloss: 0.2676\t acc: 0.883\t >> Best Checkpoint <<\n",
      "epoch 40/100\tloss: 0.2646\t acc: 0.8842\t >> Best Checkpoint <<\n",
      "epoch 41/100\tloss: 0.2621\t acc: 0.886\t >> Best Checkpoint <<\n",
      "epoch 42/100\tloss: 0.2593\t acc: 0.8873\t >> Best Checkpoint <<\n",
      "epoch 43/100\tloss: 0.256\t acc: 0.8883\t >> Best Checkpoint <<\n",
      "epoch 44/100\tloss: 0.2536\t acc: 0.889\t >> Best Checkpoint <<\n",
      "epoch 45/100\tloss: 0.2498\t acc: 0.8906\t >> Best Checkpoint <<\n",
      "epoch 46/100\tloss: 0.2464\t acc: 0.8927\t >> Best Checkpoint <<\n",
      "epoch 47/100\tloss: 0.2433\t acc: 0.895\t >> Best Checkpoint <<\n",
      "epoch 48/100\tloss: 0.2396\t acc: 0.8965\t >> Best Checkpoint <<\n",
      "epoch 49/100\tloss: 0.2356\t acc: 0.8971\t >> Best Checkpoint <<\n",
      "epoch 50/100\tloss: 0.232\t acc: 0.8988\t >> Best Checkpoint <<\n",
      "epoch 51/100\tloss: 0.2281\t acc: 0.9007\t >> Best Checkpoint <<\n",
      "epoch 52/100\tloss: 0.2239\t acc: 0.903\t >> Best Checkpoint <<\n",
      "epoch 53/100\tloss: 0.2199\t acc: 0.9051\t >> Best Checkpoint <<\n",
      "epoch 54/100\tloss: 0.2158\t acc: 0.9071\t >> Best Checkpoint <<\n",
      "epoch 55/100\tloss: 0.2115\t acc: 0.9092\t >> Best Checkpoint <<\n",
      "epoch 56/100\tloss: 0.2073\t acc: 0.9115\t >> Best Checkpoint <<\n",
      "epoch 57/100\tloss: 0.2027\t acc: 0.9141\t >> Best Checkpoint <<\n",
      "epoch 58/100\tloss: 0.1983\t acc: 0.917\t >> Best Checkpoint <<\n",
      "epoch 59/100\tloss: 0.1936\t acc: 0.9197\t >> Best Checkpoint <<\n",
      "epoch 60/100\tloss: 0.1889\t acc: 0.9214\t >> Best Checkpoint <<\n",
      "epoch 61/100\tloss: 0.1842\t acc: 0.9243\t >> Best Checkpoint <<\n",
      "epoch 62/100\tloss: 0.1794\t acc: 0.9274\t >> Best Checkpoint <<\n",
      "epoch 63/100\tloss: 0.1746\t acc: 0.9301\t >> Best Checkpoint <<\n",
      "epoch 64/100\tloss: 0.1698\t acc: 0.9329\t >> Best Checkpoint <<\n",
      "epoch 65/100\tloss: 0.165\t acc: 0.935\t >> Best Checkpoint <<\n",
      "epoch 66/100\tloss: 0.16\t acc: 0.938\t >> Best Checkpoint <<\n",
      "epoch 67/100\tloss: 0.1551\t acc: 0.9402\t >> Best Checkpoint <<\n",
      "epoch 68/100\tloss: 0.1502\t acc: 0.943\t >> Best Checkpoint <<\n",
      "epoch 69/100\tloss: 0.1452\t acc: 0.9454\t >> Best Checkpoint <<\n",
      "epoch 70/100\tloss: 0.1405\t acc: 0.9488\t >> Best Checkpoint <<\n",
      "epoch 71/100\tloss: 0.1363\t acc: 0.9493\t >> Best Checkpoint <<\n",
      "epoch 72/100\tloss: 0.1328\t acc: 0.9536\t >> Best Checkpoint <<\n",
      "epoch 73/100\tloss: 0.1286\t acc: 0.9524\n",
      "epoch 74/100\tloss: 0.122\t acc: 0.9586\t >> Best Checkpoint <<\n",
      "epoch 75/100\tloss: 0.1156\t acc: 0.9601\t >> Best Checkpoint <<\n",
      "epoch 76/100\tloss: 0.1102\t acc: 0.9626\t >> Best Checkpoint <<\n",
      "epoch 77/100\tloss: 0.1063\t acc: 0.9653\t >> Best Checkpoint <<\n",
      "epoch 78/100\tloss: 0.1011\t acc: 0.9669\t >> Best Checkpoint <<\n",
      "epoch 79/100\tloss: 0.09528\t acc: 0.9705\t >> Best Checkpoint <<\n",
      "epoch 80/100\tloss: 0.09041\t acc: 0.9723\t >> Best Checkpoint <<\n",
      "epoch 81/100\tloss: 0.08514\t acc: 0.9736\t >> Best Checkpoint <<\n",
      "epoch 82/100\tloss: 0.08043\t acc: 0.9763\t >> Best Checkpoint <<\n",
      "epoch 83/100\tloss: 0.0766\t acc: 0.9768\t >> Best Checkpoint <<\n",
      "epoch 84/100\tloss: 0.07345\t acc: 0.9782\t >> Best Checkpoint <<\n",
      "epoch 85/100\tloss: 0.07662\t acc: 0.9744\n",
      "epoch 86/100\tloss: 0.1128\t acc: 0.9549\n",
      "epoch 87/100\tloss: 0.3324\t acc: 0.8801\n",
      "epoch 88/100\tloss: 0.245\t acc: 0.8978\n",
      "epoch 89/100\tloss: 0.1049\t acc: 0.9588\n",
      "epoch 90/100\tloss: 0.09991\t acc: 0.9603\n",
      "epoch 91/100\tloss: 0.1508\t acc: 0.9317\n",
      "epoch 92/100\tloss: 0.08925\t acc: 0.969\n",
      "epoch 93/100\tloss: 0.08629\t acc: 0.9707\n",
      "epoch 94/100\tloss: 0.1109\t acc: 0.9531\n",
      "epoch 95/100\tloss: 0.1004\t acc: 0.9596\n",
      "epoch 96/100\tloss: 0.08498\t acc: 0.9674\n",
      "epoch 97/100\tloss: 0.08984\t acc: 0.963\n",
      "epoch 98/100\tloss: 0.09135\t acc: 0.9618\n",
      "epoch 99/100\tloss: 0.07827\t acc: 0.9692\n",
      "epoch 100/100\tloss: 0.0726\t acc: 0.973\n",
      "CPU times: user 1min 13s, sys: 17.8 s, total: 1min 31s\n",
      "Wall time: 31 s\n"
     ]
    }
   ],
   "source": [
    "%%time\n",
    "loss_hist, acc_hist, checkpoint_best = train(100)"
   ]
  },
  {
   "cell_type": "code",
   "execution_count": null,
   "metadata": {},
   "outputs": [],
   "source": []
  },
  {
   "cell_type": "code",
   "execution_count": 40,
   "metadata": {},
   "outputs": [],
   "source": [
    "checkpoint = {'model': LinNet(input_dim, hidden_dim, output_dim),\n",
    "              'state_dict': checkpoint_best['state_dict'],\n",
    "              'optimizer' : checkpoint_best['optimizer_state']}"
   ]
  },
  {
   "cell_type": "code",
   "execution_count": 41,
   "metadata": {},
   "outputs": [],
   "source": [
    "DIR_model = \"/home/sankarshan/Documents/code/nlproc/models/\""
   ]
  },
  {
   "cell_type": "code",
   "execution_count": 47,
   "metadata": {},
   "outputs": [],
   "source": [
    "import warnings"
   ]
  },
  {
   "cell_type": "code",
   "execution_count": 48,
   "metadata": {},
   "outputs": [],
   "source": [
    "warnings.filterwarnings(\"ignore\")"
   ]
  },
  {
   "cell_type": "code",
   "execution_count": 50,
   "metadata": {},
   "outputs": [
    {
     "name": "stdout",
     "output_type": "stream",
     "text": [
      "CPU times: user 10.3 ms, sys: 4.25 ms, total: 14.5 ms\n",
      "Wall time: 13.4 ms\n"
     ]
    }
   ],
   "source": [
    "%%time\n",
    "torch.save(checkpoint, DIR_model+'review_classification_checkpoint.pth')"
   ]
  },
  {
   "cell_type": "code",
   "execution_count": 51,
   "metadata": {},
   "outputs": [],
   "source": [
    "def load_checkpoint(filepath):\n",
    "    checkpoint = torch.load(filepath)\n",
    "    model = checkpoint['model']\n",
    "    model.load_state_dict(checkpoint['state_dict'])\n",
    "    for parameter in model.parameters():\n",
    "        parameter.requires_grad = False\n",
    "\n",
    "    #model.eval()\n",
    "    return model\n",
    "\n",
    "model_test = load_checkpoint(DIR_model+'review_classification_checkpoint.pth')"
   ]
  },
  {
   "cell_type": "code",
   "execution_count": 52,
   "metadata": {
    "scrolled": true
   },
   "outputs": [
    {
     "name": "stdout",
     "output_type": "stream",
     "text": [
      "epoch 1/100\tloss: 0.8047232031822205\t acc: 0.8384 %\n",
      "epoch 2/100\tloss: 0.8047232031822205\t acc: 0.8384 %\n",
      "epoch 3/100\tloss: 0.8047232031822205\t acc: 0.8384 %\n",
      "epoch 4/100\tloss: 0.8047232031822205\t acc: 0.8384 %\n",
      "epoch 5/100\tloss: 0.8047232031822205\t acc: 0.8384 %\n",
      "epoch 6/100\tloss: 0.8047232031822205\t acc: 0.8384 %\n",
      "epoch 7/100\tloss: 0.8047232031822205\t acc: 0.8384 %\n",
      "epoch 8/100\tloss: 0.8047232031822205\t acc: 0.8384 %\n",
      "epoch 9/100\tloss: 0.8047232031822205\t acc: 0.8384 %\n",
      "epoch 10/100\tloss: 0.8047232031822205\t acc: 0.8384 %\n",
      "epoch 11/100\tloss: 0.8047232031822205\t acc: 0.8384 %\n",
      "epoch 12/100\tloss: 0.8047232031822205\t acc: 0.8384 %\n",
      "epoch 13/100\tloss: 0.8047232031822205\t acc: 0.8384 %\n",
      "epoch 14/100\tloss: 0.8047232031822205\t acc: 0.8384 %\n",
      "epoch 15/100\tloss: 0.8047232031822205\t acc: 0.8384 %\n",
      "epoch 16/100\tloss: 0.8047232031822205\t acc: 0.8384 %\n",
      "epoch 17/100\tloss: 0.8047232031822205\t acc: 0.8384 %\n",
      "epoch 18/100\tloss: 0.8047232031822205\t acc: 0.8384 %\n",
      "epoch 19/100\tloss: 0.8047232031822205\t acc: 0.8384 %\n",
      "epoch 20/100\tloss: 0.8047232031822205\t acc: 0.8384 %\n",
      "epoch 21/100\tloss: 0.8047232031822205\t acc: 0.8384 %\n",
      "epoch 22/100\tloss: 0.8047232031822205\t acc: 0.8384 %\n",
      "epoch 23/100\tloss: 0.8047232031822205\t acc: 0.8384 %\n",
      "epoch 24/100\tloss: 0.8047232031822205\t acc: 0.8384 %\n",
      "epoch 25/100\tloss: 0.8047232031822205\t acc: 0.8384 %\n",
      "epoch 26/100\tloss: 0.8047232031822205\t acc: 0.8384 %\n",
      "epoch 27/100\tloss: 0.8047232031822205\t acc: 0.8384 %\n",
      "epoch 28/100\tloss: 0.8047232031822205\t acc: 0.8384 %\n",
      "epoch 29/100\tloss: 0.8047232031822205\t acc: 0.8384 %\n",
      "epoch 30/100\tloss: 0.8047232031822205\t acc: 0.8384 %\n",
      "epoch 31/100\tloss: 0.8047232031822205\t acc: 0.8384 %\n",
      "epoch 32/100\tloss: 0.8047232031822205\t acc: 0.8384 %\n",
      "epoch 33/100\tloss: 0.8047232031822205\t acc: 0.8384 %\n",
      "epoch 34/100\tloss: 0.8047232031822205\t acc: 0.8384 %\n",
      "epoch 35/100\tloss: 0.8047232031822205\t acc: 0.8384 %\n",
      "epoch 36/100\tloss: 0.8047232031822205\t acc: 0.8384 %\n",
      "epoch 37/100\tloss: 0.8047232031822205\t acc: 0.8384 %\n",
      "epoch 38/100\tloss: 0.8047232031822205\t acc: 0.8384 %\n",
      "epoch 39/100\tloss: 0.8047232031822205\t acc: 0.8384 %\n",
      "epoch 40/100\tloss: 0.8047232031822205\t acc: 0.8384 %\n",
      "epoch 41/100\tloss: 0.8047232031822205\t acc: 0.8384 %\n",
      "epoch 42/100\tloss: 0.8047232031822205\t acc: 0.8384 %\n",
      "epoch 43/100\tloss: 0.8047232031822205\t acc: 0.8384 %\n",
      "epoch 44/100\tloss: 0.8047232031822205\t acc: 0.8384 %\n",
      "epoch 45/100\tloss: 0.8047232031822205\t acc: 0.8384 %\n",
      "epoch 46/100\tloss: 0.8047232031822205\t acc: 0.8384 %\n",
      "epoch 47/100\tloss: 0.8047232031822205\t acc: 0.8384 %\n",
      "epoch 48/100\tloss: 0.8047232031822205\t acc: 0.8384 %\n",
      "epoch 49/100\tloss: 0.8047232031822205\t acc: 0.8384 %\n",
      "epoch 50/100\tloss: 0.8047232031822205\t acc: 0.8384 %\n",
      "epoch 51/100\tloss: 0.8047232031822205\t acc: 0.8384 %\n",
      "epoch 52/100\tloss: 0.8047232031822205\t acc: 0.8384 %\n",
      "epoch 53/100\tloss: 0.8047232031822205\t acc: 0.8384 %\n",
      "epoch 54/100\tloss: 0.8047232031822205\t acc: 0.8384 %\n",
      "epoch 55/100\tloss: 0.8047232031822205\t acc: 0.8384 %\n",
      "epoch 56/100\tloss: 0.8047232031822205\t acc: 0.8384 %\n",
      "epoch 57/100\tloss: 0.8047232031822205\t acc: 0.8384 %\n",
      "epoch 58/100\tloss: 0.8047232031822205\t acc: 0.8384 %\n",
      "epoch 59/100\tloss: 0.8047232031822205\t acc: 0.8384 %\n",
      "epoch 60/100\tloss: 0.8047232031822205\t acc: 0.8384 %\n",
      "epoch 61/100\tloss: 0.8047232031822205\t acc: 0.8384 %\n",
      "epoch 62/100\tloss: 0.8047232031822205\t acc: 0.8384 %\n",
      "epoch 63/100\tloss: 0.8047232031822205\t acc: 0.8384 %\n",
      "epoch 64/100\tloss: 0.8047232031822205\t acc: 0.8384 %\n",
      "epoch 65/100\tloss: 0.8047232031822205\t acc: 0.8384 %\n",
      "epoch 66/100\tloss: 0.8047232031822205\t acc: 0.8384 %\n",
      "epoch 67/100\tloss: 0.8047232031822205\t acc: 0.8384 %\n",
      "epoch 68/100\tloss: 0.8047232031822205\t acc: 0.8384 %\n",
      "epoch 69/100\tloss: 0.8047232031822205\t acc: 0.8384 %\n",
      "epoch 70/100\tloss: 0.8047232031822205\t acc: 0.8384 %\n",
      "epoch 71/100\tloss: 0.8047232031822205\t acc: 0.8384 %\n",
      "epoch 72/100\tloss: 0.8047232031822205\t acc: 0.8384 %\n",
      "epoch 73/100\tloss: 0.8047232031822205\t acc: 0.8384 %\n",
      "epoch 74/100\tloss: 0.8047232031822205\t acc: 0.8384 %\n",
      "epoch 75/100\tloss: 0.8047232031822205\t acc: 0.8384 %\n",
      "epoch 76/100\tloss: 0.8047232031822205\t acc: 0.8384 %\n",
      "epoch 77/100\tloss: 0.8047232031822205\t acc: 0.8384 %\n",
      "epoch 78/100\tloss: 0.8047232031822205\t acc: 0.8384 %\n",
      "epoch 79/100\tloss: 0.8047232031822205\t acc: 0.8384 %\n",
      "epoch 80/100\tloss: 0.8047232031822205\t acc: 0.8384 %\n",
      "epoch 81/100\tloss: 0.8047232031822205\t acc: 0.8384 %\n",
      "epoch 82/100\tloss: 0.8047232031822205\t acc: 0.8384 %\n",
      "epoch 83/100\tloss: 0.8047232031822205\t acc: 0.8384 %\n",
      "epoch 84/100\tloss: 0.8047232031822205\t acc: 0.8384 %\n",
      "epoch 85/100\tloss: 0.8047232031822205\t acc: 0.8384 %\n",
      "epoch 86/100\tloss: 0.8047232031822205\t acc: 0.8384 %\n",
      "epoch 87/100\tloss: 0.8047232031822205\t acc: 0.8384 %\n",
      "epoch 88/100\tloss: 0.8047232031822205\t acc: 0.8384 %\n",
      "epoch 89/100\tloss: 0.8047232031822205\t acc: 0.8384 %\n",
      "epoch 90/100\tloss: 0.8047232031822205\t acc: 0.8384 %\n",
      "epoch 91/100\tloss: 0.8047232031822205\t acc: 0.8384 %\n",
      "epoch 92/100\tloss: 0.8047232031822205\t acc: 0.8384 %\n",
      "epoch 93/100\tloss: 0.8047232031822205\t acc: 0.8384 %\n",
      "epoch 94/100\tloss: 0.8047232031822205\t acc: 0.8384 %\n",
      "epoch 95/100\tloss: 0.8047232031822205\t acc: 0.8384 %\n",
      "epoch 96/100\tloss: 0.8047232031822205\t acc: 0.8384 %\n",
      "epoch 97/100\tloss: 0.8047232031822205\t acc: 0.8384 %\n",
      "epoch 98/100\tloss: 0.8047232031822205\t acc: 0.8384 %\n",
      "epoch 99/100\tloss: 0.8047232031822205\t acc: 0.8384 %\n",
      "epoch 100/100\tloss: 0.8047232031822205\t acc: 0.8384 %\n"
     ]
    }
   ],
   "source": [
    "test_loss_hist, test_acc_hist = test(model_test, 100)"
   ]
  },
  {
   "cell_type": "code",
   "execution_count": 35,
   "metadata": {},
   "outputs": [
    {
     "data": {
      "text/plain": [
       "Text(0, 0.5, 'loss')"
      ]
     },
     "execution_count": 35,
     "metadata": {},
     "output_type": "execute_result"
    },
    {
     "data": {
      "image/png": "[encoded data removed]",
      "text/plain": [
       "<Figure size 432x288 with 1 Axes>"
      ]
     },
     "metadata": {
      "needs_background": "light"
     },
     "output_type": "display_data"
    }
   ],
   "source": [
    "plt.figure()\n",
    "plt.plot(loss_hist, label = \"train loss\")\n",
    "plt.plot(acc_hist ,label=\"train acc\")\n",
    "plt.legend()\n",
    "plt.xlabel(\"values\")\n",
    "plt.grid(alpha=0.3)\n",
    "plt.ylabel(\"loss\")"
   ]
  },
  {
   "cell_type": "code",
   "execution_count": null,
   "metadata": {},
   "outputs": [],
   "source": []
  }
 ],
 "metadata": {
  "hide_input": false,
  "kernelspec": {
   "display_name": "Python [conda env:py36]",
   "language": "python",
   "name": "conda-env-py36-py"
  },
  "language_info": {
   "codemirror_mode": {
    "name": "ipython",
    "version": 3
   },
   "file_extension": ".py",
   "mimetype": "text/x-python",
   "name": "python",
   "nbconvert_exporter": "python",
   "pygments_lexer": "ipython3",
   "version": "3.6.8"
  },
  "toc": {
   "base_numbering": 1,
   "nav_menu": {},
   "number_sections": true,
   "sideBar": true,
   "skip_h1_title": false,
   "title_cell": "Table of Contents",
   "title_sidebar": "Contents",
   "toc_cell": false,
   "toc_position": {},
   "toc_section_display": true,
   "toc_window_display": false
  },
  "varInspector": {
   "cols": {
    "lenName": 16,
    "lenType": 16,
    "lenVar": 40
   },
   "kernels_config": {
    "python": {
     "delete_cmd_postfix": "",
     "delete_cmd_prefix": "del ",
     "library": "var_list.py",
     "varRefreshCmd": "print(var_dic_list())"
    },
    "r": {
     "delete_cmd_postfix": ") ",
     "delete_cmd_prefix": "rm(",
     "library": "var_list.r",
     "varRefreshCmd": "cat(var_dic_list()) "
    }
   },
   "types_to_exclude": [
    "module",
    "function",
    "builtin_function_or_method",
    "instance",
    "_Feature"
   ],
   "window_display": false
  }
 },
 "nbformat": 4,
 "nbformat_minor": 2
}
